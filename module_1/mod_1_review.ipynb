{
 "cells": [
  {
   "cell_type": "markdown",
   "metadata": {},
   "source": [
    "# Parsing Dictionaries\n",
    "\n",
    "Below, we have imported a dictionary about flatiron school"
   ]
  },
  {
   "cell_type": "code",
   "execution_count": 17,
   "metadata": {
    "ExecuteTime": {
     "end_time": "2020-02-05T19:43:12.592713Z",
     "start_time": "2020-02-05T19:43:12.589438Z"
    }
   },
   "outputs": [],
   "source": [
    "with open('flatiron.txt', 'r') as file:\n",
    "    flatiron = json.load(file)\n",
    "\n"
   ]
  },
  {
   "cell_type": "markdown",
   "metadata": {
    "ExecuteTime": {
     "end_time": "2020-02-05T19:43:19.868979Z",
     "start_time": "2020-02-05T19:43:19.865589Z"
    }
   },
   "source": [
    "Print out the keys for the flatiron dictionary"
   ]
  },
  {
   "cell_type": "code",
   "execution_count": 29,
   "metadata": {
    "ExecuteTime": {
     "end_time": "2020-02-05T19:47:50.078044Z",
     "start_time": "2020-02-05T19:47:50.074754Z"
    }
   },
   "outputs": [
    {
     "data": {
      "text/plain": [
       "dict_keys(['mission_statement', 'software_engineering', 'data_science'])"
      ]
     },
     "execution_count": 29,
     "metadata": {},
     "output_type": "execute_result"
    }
   ],
   "source": []
  },
  {
   "cell_type": "markdown",
   "metadata": {},
   "source": [
    "Print the datatype of the datascience key."
   ]
  },
  {
   "cell_type": "code",
   "execution_count": 41,
   "metadata": {
    "ExecuteTime": {
     "end_time": "2020-02-05T20:03:02.121355Z",
     "start_time": "2020-02-05T20:03:02.117851Z"
    }
   },
   "outputs": [
    {
     "data": {
      "text/plain": [
       "dict"
      ]
     },
     "execution_count": 41,
     "metadata": {},
     "output_type": "execute_result"
    }
   ],
   "source": []
  },
  {
   "cell_type": "markdown",
   "metadata": {},
   "source": [
    "print the keys for data_science"
   ]
  },
  {
   "cell_type": "code",
   "execution_count": 45,
   "metadata": {
    "ExecuteTime": {
     "end_time": "2020-02-05T20:04:40.608441Z",
     "start_time": "2020-02-05T20:04:40.604685Z"
    }
   },
   "outputs": [
    {
     "data": {
      "text/plain": [
       "dict_keys(['overview', 'mods'])"
      ]
     },
     "execution_count": 45,
     "metadata": {},
     "output_type": "execute_result"
    }
   ],
   "source": []
  },
  {
   "cell_type": "markdown",
   "metadata": {
    "ExecuteTime": {
     "end_time": "2020-02-05T19:49:25.564806Z",
     "start_time": "2020-02-05T19:49:25.560798Z"
    }
   },
   "source": [
    "collect the curriculum for module_1"
   ]
  },
  {
   "cell_type": "code",
   "execution_count": 46,
   "metadata": {
    "ExecuteTime": {
     "end_time": "2020-02-05T20:04:47.092178Z",
     "start_time": "2020-02-05T20:04:47.088730Z"
    }
   },
   "outputs": [
    {
     "data": {
      "text/plain": [
       "['Variables',\n",
       " 'Booleans and Conditionals',\n",
       " 'Lists',\n",
       " 'Dictionaries',\n",
       " 'Looping',\n",
       " 'Functions',\n",
       " 'Data Structures',\n",
       " 'Data Cleaning',\n",
       " 'Pandas',\n",
       " 'NumPy',\n",
       " 'Matplotlib/ Seaborn for Data Visualization',\n",
       " 'Git/Github',\n",
       " 'SQL',\n",
       " 'Accessing Data Through APIs',\n",
       " 'Web Scraping']"
      ]
     },
     "execution_count": 46,
     "metadata": {},
     "output_type": "execute_result"
    }
   ],
   "source": [
    "\n",
    "    "
   ]
  },
  {
   "cell_type": "markdown",
   "metadata": {
    "ExecuteTime": {
     "end_time": "2020-02-05T19:55:42.828246Z",
     "start_time": "2020-02-05T19:55:42.824524Z"
    }
   },
   "source": [
    "Using a loop, create a list of tuples for each data science mod. Each tuple should contain\n",
    "1. The name of the mod\n",
    "2. The first curriculum topic\n",
    "3. The Last curriculum topic.\n"
   ]
  },
  {
   "cell_type": "code",
   "execution_count": 61,
   "metadata": {
    "ExecuteTime": {
     "end_time": "2020-02-05T20:10:54.574647Z",
     "start_time": "2020-02-05T20:10:54.569482Z"
    }
   },
   "outputs": [
    {
     "data": {
      "text/plain": [
       "[('mod_1', 'Variables', 'Web Scraping'),\n",
       " ('mod_2', 'Combinatorics', 'Model Evaluation'),\n",
       " ('mod_3', 'Linear Algebra', 'Ensemble methods'),\n",
       " ('mod_4', 'Dimensionality reduction', 'Recommendation Systems')]"
      ]
     },
     "execution_count": 61,
     "metadata": {},
     "output_type": "execute_result"
    }
   ],
   "source": []
  },
  {
   "cell_type": "markdown",
   "metadata": {
    "ExecuteTime": {
     "end_time": "2020-02-05T19:45:32.791420Z",
     "start_time": "2020-02-05T19:45:32.788010Z"
    }
   },
   "source": [
    "Define a function called topics that will return the curriculum topics of a module.\n",
    "\n",
    "Your function should take two arguments.\n",
    "1. A discipline name\n",
    "    - software_engineering\n",
    "    - data_science\n",
    "    \n",
    "2. A module name"
   ]
  },
  {
   "cell_type": "code",
   "execution_count": 65,
   "metadata": {
    "ExecuteTime": {
     "end_time": "2020-02-05T20:17:41.548808Z",
     "start_time": "2020-02-05T20:17:41.546123Z"
    }
   },
   "outputs": [],
   "source": []
  },
  {
   "cell_type": "markdown",
   "metadata": {
    "ExecuteTime": {
     "end_time": "2020-02-05T20:17:58.562477Z",
     "start_time": "2020-02-05T20:17:58.558597Z"
    }
   },
   "source": [
    "Define a function called longest_mod that will return the name of the module with the most curriculum topics for a given discipline"
   ]
  },
  {
   "cell_type": "code",
   "execution_count": 80,
   "metadata": {
    "ExecuteTime": {
     "end_time": "2020-02-05T20:23:41.700513Z",
     "start_time": "2020-02-05T20:23:41.696768Z"
    }
   },
   "outputs": [],
   "source": [
    " \n",
    "    "
   ]
  },
  {
   "cell_type": "code",
   "execution_count": 81,
   "metadata": {
    "ExecuteTime": {
     "end_time": "2020-02-05T20:23:43.266747Z",
     "start_time": "2020-02-05T20:23:43.263251Z"
    }
   },
   "outputs": [
    {
     "data": {
      "text/plain": [
       "'mod_1'"
      ]
     },
     "execution_count": 81,
     "metadata": {},
     "output_type": "execute_result"
    }
   ],
   "source": [
    "longest_mod('data_science')"
   ]
  },
  {
   "cell_type": "code",
   "execution_count": null,
   "metadata": {},
   "outputs": [],
   "source": []
  }
 ],
 "metadata": {
  "kernelspec": {
   "display_name": "Python 3",
   "language": "python",
   "name": "python3"
  },
  "language_info": {
   "codemirror_mode": {
    "name": "ipython",
    "version": 3
   },
   "file_extension": ".py",
   "mimetype": "text/x-python",
   "name": "python",
   "nbconvert_exporter": "python",
   "pygments_lexer": "ipython3",
   "version": "3.7.4"
  },
  "toc": {
   "base_numbering": 1,
   "nav_menu": {},
   "number_sections": false,
   "sideBar": true,
   "skip_h1_title": false,
   "title_cell": "Table of Contents",
   "title_sidebar": "Contents",
   "toc_cell": false,
   "toc_position": {},
   "toc_section_display": true,
   "toc_window_display": true
  }
 },
 "nbformat": 4,
 "nbformat_minor": 2
}
