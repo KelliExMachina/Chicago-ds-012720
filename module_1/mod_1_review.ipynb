{
 "cells": [
  {
   "cell_type": "markdown",
   "metadata": {},
   "source": [
    "# Parsing Dictionaries\n",
    "\n",
    "Below, we have imported a dictionary about flatiron school"
   ]
  },
  {
   "cell_type": "code",
   "execution_count": 17,
   "metadata": {
    "ExecuteTime": {
     "end_time": "2020-02-05T19:43:12.592713Z",
     "start_time": "2020-02-05T19:43:12.589438Z"
    }
   },
   "outputs": [],
   "source": [
    "with open('flatiron.txt', 'r') as file:\n",
    "    flatiron = json.load(file)\n",
    "\n"
   ]
  },
  {
   "cell_type": "markdown",
   "metadata": {
    "ExecuteTime": {
     "end_time": "2020-02-05T19:43:19.868979Z",
     "start_time": "2020-02-05T19:43:19.865589Z"
    }
   },
   "source": [
    "Print out the keys for the flatiron dictionary"
   ]
  },
  {
   "cell_type": "code",
   "execution_count": 29,
   "metadata": {
    "ExecuteTime": {
     "end_time": "2020-02-05T19:47:50.078044Z",
     "start_time": "2020-02-05T19:47:50.074754Z"
    }
   },
   "outputs": [
    {
     "data": {
      "text/plain": [
       "dict_keys(['mission_statement', 'software_engineering', 'data_science'])"
      ]
     },
     "execution_count": 29,
     "metadata": {},
     "output_type": "execute_result"
    }
   ],
   "source": [
    "flatiron.keys()"
   ]
  },
  {
   "cell_type": "markdown",
   "metadata": {},
   "source": [
    "Print the datatype of the datascience key."
   ]
  },
  {
   "cell_type": "code",
   "execution_count": 41,
   "metadata": {
    "ExecuteTime": {
     "end_time": "2020-02-05T20:03:02.121355Z",
     "start_time": "2020-02-05T20:03:02.117851Z"
    }
   },
   "outputs": [
    {
     "data": {
      "text/plain": [
       "dict"
      ]
     },
     "execution_count": 41,
     "metadata": {},
     "output_type": "execute_result"
    }
   ],
   "source": [
    "type(flatiron['data_science'])"
   ]
  },
  {
   "cell_type": "markdown",
   "metadata": {},
   "source": [
    "print the keys for data_science"
   ]
  },
  {
   "cell_type": "code",
   "execution_count": 45,
   "metadata": {
    "ExecuteTime": {
     "end_time": "2020-02-05T20:04:40.608441Z",
     "start_time": "2020-02-05T20:04:40.604685Z"
    }
   },
   "outputs": [
    {
     "data": {
      "text/plain": [
       "dict_keys(['overview', 'mods'])"
      ]
     },
     "execution_count": 45,
     "metadata": {},
     "output_type": "execute_result"
    }
   ],
   "source": [
    "flatiron['data_science'].keys()"
   ]
  },
  {
   "cell_type": "markdown",
   "metadata": {
    "ExecuteTime": {
     "end_time": "2020-02-05T19:49:25.564806Z",
     "start_time": "2020-02-05T19:49:25.560798Z"
    }
   },
   "source": [
    "collect the curriculum for module_1"
   ]
  },
  {
   "cell_type": "code",
   "execution_count": 46,
   "metadata": {
    "ExecuteTime": {
     "end_time": "2020-02-05T20:04:47.092178Z",
     "start_time": "2020-02-05T20:04:47.088730Z"
    }
   },
   "outputs": [
    {
     "data": {
      "text/plain": [
       "['Variables',\n",
       " 'Booleans and Conditionals',\n",
       " 'Lists',\n",
       " 'Dictionaries',\n",
       " 'Looping',\n",
       " 'Functions',\n",
       " 'Data Structures',\n",
       " 'Data Cleaning',\n",
       " 'Pandas',\n",
       " 'NumPy',\n",
       " 'Matplotlib/ Seaborn for Data Visualization',\n",
       " 'Git/Github',\n",
       " 'SQL',\n",
       " 'Accessing Data Through APIs',\n",
       " 'Web Scraping']"
      ]
     },
     "execution_count": 46,
     "metadata": {},
     "output_type": "execute_result"
    }
   ],
   "source": [
    "flatiron['data_science']['mods']['mod_1']\n",
    "    "
   ]
  },
  {
   "cell_type": "markdown",
   "metadata": {
    "ExecuteTime": {
     "end_time": "2020-02-05T19:55:42.828246Z",
     "start_time": "2020-02-05T19:55:42.824524Z"
    }
   },
   "source": [
    "Using a loop, create a list of tuples for each data science mod. Each tuple should contain\n",
    "1. The name of the mod\n",
    "2. The first curriculum topic\n",
    "3. The Last curriculum topic.\n"
   ]
  },
  {
   "cell_type": "code",
   "execution_count": 61,
   "metadata": {
    "ExecuteTime": {
     "end_time": "2020-02-05T20:10:54.574647Z",
     "start_time": "2020-02-05T20:10:54.569482Z"
    }
   },
   "outputs": [
    {
     "data": {
      "text/plain": [
       "[('mod_1', 'Variables', 'Web Scraping'),\n",
       " ('mod_2', 'Combinatorics', 'Model Evaluation'),\n",
       " ('mod_3', 'Linear Algebra', 'Ensemble methods'),\n",
       " ('mod_4', 'Dimensionality reduction', 'Recommendation Systems')]"
      ]
     },
     "execution_count": 61,
     "metadata": {},
     "output_type": "execute_result"
    }
   ],
   "source": [
    "tupes = []\n",
    "for mod in flatiron['data_science']['mods']:\n",
    "    tupes.append(tuple([mod, \n",
    "                       flatiron['data_science']['mods'][mod][0],\n",
    "                      flatiron['data_science']['mods'][mod][-1]]))\n",
    "    \n",
    "tupes"
   ]
  },
  {
   "cell_type": "markdown",
   "metadata": {
    "ExecuteTime": {
     "end_time": "2020-02-05T19:45:32.791420Z",
     "start_time": "2020-02-05T19:45:32.788010Z"
    }
   },
   "source": [
    "Define a function called topics that will return the curriculum topics of a module.\n",
    "\n",
    "Your function should take two arguments.\n",
    "1. A discipline name\n",
    "    - software_engineering\n",
    "    - data_science\n",
    "    \n",
    "2. A module name"
   ]
  },
  {
   "cell_type": "code",
   "execution_count": 65,
   "metadata": {
    "ExecuteTime": {
     "end_time": "2020-02-05T20:17:41.548808Z",
     "start_time": "2020-02-05T20:17:41.546123Z"
    }
   },
   "outputs": [],
   "source": [
    "def topics(discipline, module):\n",
    "    return flatiron[discipline]['mods'][module]"
   ]
  },
  {
   "cell_type": "markdown",
   "metadata": {
    "ExecuteTime": {
     "end_time": "2020-02-05T20:17:58.562477Z",
     "start_time": "2020-02-05T20:17:58.558597Z"
    }
   },
   "source": [
    "Define a function called longest_mod that will return the name of the module with the most curriculum topics for a given discipline"
   ]
  },
  {
   "cell_type": "code",
   "execution_count": 80,
   "metadata": {
    "ExecuteTime": {
     "end_time": "2020-02-05T20:23:41.700513Z",
     "start_time": "2020-02-05T20:23:41.696768Z"
    }
   },
   "outputs": [],
   "source": [
    "def longest_mod(discipline):\n",
    "    count = 0\n",
    "    longest = None\n",
    "    for mod in flatiron[discipline]['mods']:\n",
    "        length = len(flatiron[discipline]['mods'][mod])\n",
    "        if length > count:\n",
    "            count = length\n",
    "            longest = mod\n",
    "    \n",
    "    return longest \n",
    "    "
   ]
  },
  {
   "cell_type": "code",
   "execution_count": 81,
   "metadata": {
    "ExecuteTime": {
     "end_time": "2020-02-05T20:23:43.266747Z",
     "start_time": "2020-02-05T20:23:43.263251Z"
    }
   },
   "outputs": [
    {
     "data": {
      "text/plain": [
       "'mod_1'"
      ]
     },
     "execution_count": 81,
     "metadata": {},
     "output_type": "execute_result"
    }
   ],
   "source": [
    "longest_mod('data_science')"
   ]
  },
  {
   "cell_type": "code",
   "execution_count": 27,
   "metadata": {
    "ExecuteTime": {
     "end_time": "2020-02-05T19:46:12.131737Z",
     "start_time": "2020-02-05T19:46:12.118889Z"
    }
   },
   "outputs": [
    {
     "data": {
      "text/html": [
       "<div>\n",
       "<style scoped>\n",
       "    .dataframe tbody tr th:only-of-type {\n",
       "        vertical-align: middle;\n",
       "    }\n",
       "\n",
       "    .dataframe tbody tr th {\n",
       "        vertical-align: top;\n",
       "    }\n",
       "\n",
       "    .dataframe thead th {\n",
       "        text-align: right;\n",
       "    }\n",
       "</style>\n",
       "<table border=\"1\" class=\"dataframe\">\n",
       "  <thead>\n",
       "    <tr style=\"text-align: right;\">\n",
       "      <th></th>\n",
       "      <th>overview</th>\n",
       "      <th>mods</th>\n",
       "    </tr>\n",
       "  </thead>\n",
       "  <tbody>\n",
       "    <tr>\n",
       "      <td>mod_1</td>\n",
       "      <td>With Flatiron School, you’ll learn full-stack ...</td>\n",
       "      <td>[Object-Oriented Programming, SQL]</td>\n",
       "    </tr>\n",
       "    <tr>\n",
       "      <td>mod_2</td>\n",
       "      <td>With Flatiron School, you’ll learn full-stack ...</td>\n",
       "      <td>[Ruby, Product Management, Sinatra]</td>\n",
       "    </tr>\n",
       "    <tr>\n",
       "      <td>mod_3</td>\n",
       "      <td>With Flatiron School, you’ll learn full-stack ...</td>\n",
       "      <td>[Javascript]</td>\n",
       "    </tr>\n",
       "    <tr>\n",
       "      <td>mod_4</td>\n",
       "      <td>With Flatiron School, you’ll learn full-stack ...</td>\n",
       "      <td>[React, Redux]</td>\n",
       "    </tr>\n",
       "  </tbody>\n",
       "</table>\n",
       "</div>"
      ],
      "text/plain": [
       "                                                overview  \\\n",
       "mod_1  With Flatiron School, you’ll learn full-stack ...   \n",
       "mod_2  With Flatiron School, you’ll learn full-stack ...   \n",
       "mod_3  With Flatiron School, you’ll learn full-stack ...   \n",
       "mod_4  With Flatiron School, you’ll learn full-stack ...   \n",
       "\n",
       "                                      mods  \n",
       "mod_1   [Object-Oriented Programming, SQL]  \n",
       "mod_2  [Ruby, Product Management, Sinatra]  \n",
       "mod_3                         [Javascript]  \n",
       "mod_4                       [React, Redux]  "
      ]
     },
     "execution_count": 27,
     "metadata": {},
     "output_type": "execute_result"
    }
   ],
   "source": [
    "import pandas as pd\n",
    "\n",
    "pd.DataFrame(flatiron['software_engineering'])"
   ]
  },
  {
   "cell_type": "code",
   "execution_count": 28,
   "metadata": {
    "ExecuteTime": {
     "end_time": "2020-02-05T19:46:33.178660Z",
     "start_time": "2020-02-05T19:46:33.170032Z"
    }
   },
   "outputs": [
    {
     "data": {
      "text/html": [
       "<div>\n",
       "<style scoped>\n",
       "    .dataframe tbody tr th:only-of-type {\n",
       "        vertical-align: middle;\n",
       "    }\n",
       "\n",
       "    .dataframe tbody tr th {\n",
       "        vertical-align: top;\n",
       "    }\n",
       "\n",
       "    .dataframe thead th {\n",
       "        text-align: right;\n",
       "    }\n",
       "</style>\n",
       "<table border=\"1\" class=\"dataframe\">\n",
       "  <thead>\n",
       "    <tr style=\"text-align: right;\">\n",
       "      <th></th>\n",
       "      <th>overview</th>\n",
       "      <th>mods</th>\n",
       "    </tr>\n",
       "  </thead>\n",
       "  <tbody>\n",
       "    <tr>\n",
       "      <td>mod_1</td>\n",
       "      <td>This program will provide you with the knowled...</td>\n",
       "      <td>[Variables, Booleans and Conditionals, Lists, ...</td>\n",
       "    </tr>\n",
       "    <tr>\n",
       "      <td>mod_2</td>\n",
       "      <td>This program will provide you with the knowled...</td>\n",
       "      <td>[Combinatorics, Probability Theory, Statistica...</td>\n",
       "    </tr>\n",
       "    <tr>\n",
       "      <td>mod_3</td>\n",
       "      <td>This program will provide you with the knowled...</td>\n",
       "      <td>[Linear Algebra, Logistic regression, Maximum ...</td>\n",
       "    </tr>\n",
       "    <tr>\n",
       "      <td>mod_4</td>\n",
       "      <td>This program will provide you with the knowled...</td>\n",
       "      <td>[Dimensionality reduction, Clustering, Time se...</td>\n",
       "    </tr>\n",
       "  </tbody>\n",
       "</table>\n",
       "</div>"
      ],
      "text/plain": [
       "                                                overview  \\\n",
       "mod_1  This program will provide you with the knowled...   \n",
       "mod_2  This program will provide you with the knowled...   \n",
       "mod_3  This program will provide you with the knowled...   \n",
       "mod_4  This program will provide you with the knowled...   \n",
       "\n",
       "                                                    mods  \n",
       "mod_1  [Variables, Booleans and Conditionals, Lists, ...  \n",
       "mod_2  [Combinatorics, Probability Theory, Statistica...  \n",
       "mod_3  [Linear Algebra, Logistic regression, Maximum ...  \n",
       "mod_4  [Dimensionality reduction, Clustering, Time se...  "
      ]
     },
     "execution_count": 28,
     "metadata": {},
     "output_type": "execute_result"
    }
   ],
   "source": [
    "pd.DataFrame(flatiron['data_science'])"
   ]
  },
  {
   "cell_type": "code",
   "execution_count": null,
   "metadata": {},
   "outputs": [],
   "source": []
  }
 ],
 "metadata": {
  "kernelspec": {
   "display_name": "Python 3",
   "language": "python",
   "name": "python3"
  },
  "language_info": {
   "codemirror_mode": {
    "name": "ipython",
    "version": 3
   },
   "file_extension": ".py",
   "mimetype": "text/x-python",
   "name": "python",
   "nbconvert_exporter": "python",
   "pygments_lexer": "ipython3",
   "version": "3.7.4"
  },
  "toc": {
   "base_numbering": 1,
   "nav_menu": {},
   "number_sections": false,
   "sideBar": true,
   "skip_h1_title": false,
   "title_cell": "Table of Contents",
   "title_sidebar": "Contents",
   "toc_cell": false,
   "toc_position": {},
   "toc_section_display": true,
   "toc_window_display": true
  }
 },
 "nbformat": 4,
 "nbformat_minor": 2
}
