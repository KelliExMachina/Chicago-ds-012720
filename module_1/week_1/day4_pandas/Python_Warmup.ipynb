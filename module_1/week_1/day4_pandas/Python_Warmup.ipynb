{
 "cells": [
  {
   "cell_type": "markdown",
   "metadata": {},
   "source": [
    "# #1 Loops Practice Names -Solution"
   ]
  },
  {
   "cell_type": "markdown",
   "metadata": {},
   "source": [
    "Given a list of people (ppl) write code in the cell below that:\n",
    "\n",
    "* Creates a new list called excited_ppl that lists each person's name with two exclamation points at the end of each one\n",
    "* Create a list of length of each person's name"
   ]
  },
  {
   "cell_type": "code",
   "execution_count": null,
   "metadata": {},
   "outputs": [],
   "source": [
    "ppl = ['Alice', 'Bob', 'Carol', 'Doug']\n",
    "\n",
    "excited_ppl=[]\n",
    "# your code here\n",
    "ppl_len=[]\n",
    "# your code here\n"
   ]
  },
  {
   "cell_type": "markdown",
   "metadata": {},
   "source": [
    "# #2 String method.\n",
    "\n",
    "Using a loop, count the total number of 'o' vowels within each person's name. \n",
    "\n",
    "Save the total number of 'o' vowels in the variable *total*"
   ]
  },
  {
   "cell_type": "code",
   "execution_count": null,
   "metadata": {},
   "outputs": [],
   "source": [
    "# your code here"
   ]
  },
  {
   "cell_type": "markdown",
   "metadata": {},
   "source": [
    "# #3 If Else Practice Solution"
   ]
  },
  {
   "cell_type": "markdown",
   "metadata": {},
   "source": [
    "Given an integer, n, write code in the cell below that performs the following conditional actions:\n",
    "\n",
    "* If n is odd, print Weird\n",
    "* If n is even and in the inclusive range of 2 to 5, print Not Weird\n",
    "* If n is even and in the inclusive range of 6 to 20, print Weird\n",
    "* If n is even and greater than 20, print Not Weird"
   ]
  },
  {
   "cell_type": "code",
   "execution_count": null,
   "metadata": {},
   "outputs": [],
   "source": [
    "# your code here\n",
    "n = 6"
   ]
  },
  {
   "cell_type": "markdown",
   "metadata": {},
   "source": [
    "# #4 Casting"
   ]
  },
  {
   "cell_type": "markdown",
   "metadata": {},
   "source": [
    "Create an integer variable named x\n",
    "Create a float variable name y\n",
    "Create a string variable nambed z\n",
    "\n",
    "Cast x as a float\n",
    "Cast y as a string\n",
    "Cast z as an integer"
   ]
  },
  {
   "cell_type": "code",
   "execution_count": null,
   "metadata": {},
   "outputs": [],
   "source": [
    "# Your code here\n",
    "\n",
    "\n",
    "# Run cell to check answer:\n",
    "print(type(x) == float)\n",
    "print(type(y) == str)\n",
    "print(type(z) == int)\n",
    "# True\n",
    "# True\n",
    "# True"
   ]
  },
  {
   "cell_type": "markdown",
   "metadata": {},
   "source": [
    "# #5 "
   ]
  },
  {
   "cell_type": "markdown",
   "metadata": {},
   "source": [
    "Write code to perform the following actions.\n",
    "\n",
    "- If n is a string, print \"I love quotations!'\n",
    "- If n is a float, print \"Awesome dot com\"\n",
    "- If n is a integer, print \"Hurray!\"\n",
    "- Else print \"Weird\"\n",
    "    "
   ]
  },
  {
   "cell_type": "code",
   "execution_count": null,
   "metadata": {},
   "outputs": [],
   "source": [
    "# Your code here"
   ]
  }
 ],
 "metadata": {
  "kernelspec": {
   "display_name": "Python 3",
   "language": "python",
   "name": "python3"
  },
  "language_info": {
   "codemirror_mode": {
    "name": "ipython",
    "version": 3
   },
   "file_extension": ".py",
   "mimetype": "text/x-python",
   "name": "python",
   "nbconvert_exporter": "python",
   "pygments_lexer": "ipython3",
   "version": "3.7.3"
  }
 },
 "nbformat": 4,
 "nbformat_minor": 4
}
